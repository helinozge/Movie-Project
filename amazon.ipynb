{
 "cells": [
  {
   "cell_type": "code",
   "execution_count": 1,
   "id": "06dbe8c3",
   "metadata": {},
   "outputs": [
    {
     "name": "stdout",
     "output_type": "stream",
     "text": [
      "['the witcher', 'watchmen', 'little emma', 'the casagrandes movie', 'i now pronounce you retro ellie', 'transformers', 'mufasa', 'maxxie lawow', 'the day the earth blew up', 'frida', 'kid vampire', 'no time to spy', 'mars movie', 'justice league', 'animal adventures', 'boys go to jupiter', 'the car acrobatic team saga', 'despicable me 4', 'plankton', 'a tooth fairy tale', 'transformers one', 'inside out 2', 'gracie and pedro', 'the ballad of straw hat sam', '10 lives', 'moana 2', 'hello my beautiful creatures', 'ugly sweater', 'teachers pet', 'orion and the dark', 'shrek 5', 'steal the naughty list', 'piece by piece', 'spellbound', 'harold and the purple crayon', 'cornucopia', 'nature cats nature movie special extraordinaire', 'the garfield movie', 'my redneck neighbor', 'grand theft hamlet', 'if', 'barbie and teresa', 'bonk.io', 'astra', 'ninja doomscrolling', 'strange portal!', 'rocky and bullwinkle', 'mobile suit gundam', 'the wild robot', 'isla monstro', 'the lord of the rings', 'fat chance! the movie', 'snow white and the 7 dwarfs', 'the tigers apprentice', 'apocalypse love', 'paddington in peru', 'sabbath queen', 'hitpig', 'nothing unusual', 'the glassworker', 'isle', 'kung fu panda 4', 'tobias and the arcane merchant', 'big city greens the movie', 'dog man', 'thelma the unicorn', 'inanimate insanity', 'look back', 'ultraman', 'watchmen']\n"
     ]
    }
   ],
   "source": [
    "movies = [\n",
    "    \"The Witcher\",\n",
    "    \"Watchmen\",\n",
    "    \"Little Emma\",\n",
    "    \"The Casagrandes Movie\",\n",
    "    \"I Now Pronounce You Retro Ellie\",\n",
    "    \"Transformers\",\n",
    "    \"Mufasa\",\n",
    "    \"Maxxie LaWow\",\n",
    "    \"The Day the Earth Blew Up\",\n",
    "    \"Frida\",\n",
    "    \"Kid Vampire\",\n",
    "    \"No Time to Spy\",\n",
    "    \"Mars Movie\",\n",
    "    \"Justice League\",\n",
    "    \"Animal Adventures\",\n",
    "    \"Boys Go to Jupiter\",\n",
    "    \"The Car Acrobatic Team Saga\",\n",
    "    \"Despicable Me 4\",\n",
    "    \"Plankton\",\n",
    "    \"A Tooth Fairy Tale\",\n",
    "    \"Transformers One\",\n",
    "    \"Inside Out 2\",\n",
    "    \"Gracie and Pedro\",\n",
    "    \"The Ballad of Straw Hat Sam\",\n",
    "    \"10 Lives\",\n",
    "    \"Moana 2\",\n",
    "    \"Hello My Beautiful Creatures\",\n",
    "    \"Ugly Sweater\",\n",
    "    \"Teachers Pet\",\n",
    "    \"Orion and the Dark\",\n",
    "    \"Shrek 5\",\n",
    "    \"Steal the Naughty List\",\n",
    "    \"Piece by Piece\",\n",
    "    \"Spellbound\",\n",
    "    \"Harold and the Purple Crayon\",\n",
    "    \"Cornucopia\",\n",
    "    \"Nature Cat's Nature Movie Special Extraordinaire\",\n",
    "    \"The Garfield Movie\",\n",
    "    \"My Redneck Neighbor\",\n",
    "    \"Grand Theft Hamlet\",\n",
    "    \"IF\",\n",
    "    \"Barbie and Teresa\",\n",
    "    \"Bonk.io\",\n",
    "    \"Astra\",\n",
    "    \"Ninja Doomscrolling\",\n",
    "    \"Strange Portal!\",\n",
    "    \"Rocky and Bullwinkle\",\n",
    "    \"Mobile Suit Gundam\",\n",
    "    \"The Wild Robot\",\n",
    "    \"Isla Monstro\",\n",
    "    \"The Lord of the Rings\",\n",
    "    \"Fat Chance! the Movie\",\n",
    "    \"Snow White and the 7 Dwarfs\",\n",
    "    \"The Tiger's Apprentice\",\n",
    "    \"Apocalypse Love\",\n",
    "    \"Paddington in Peru\",\n",
    "    \"Sabbath Queen\",\n",
    "    \"Hitpig\",\n",
    "    \"Nothing Unusual\",\n",
    "    \"The Glassworker\",\n",
    "    \"Isle\",\n",
    "    \"Kung Fu Panda 4\",\n",
    "    \"Tobias and the Arcane Merchant\",\n",
    "    \"Big City Greens the Movie\",\n",
    "    \"Dog Man\",\n",
    "    \"Thelma the Unicorn\",\n",
    "    \"Inanimate Insanity\",\n",
    "    \"Look Back\",\n",
    "    \"Ultraman\",\n",
    "    \"Watchmen\"\n",
    "]\n",
    "\n",
    "clean_movies = [m.lower().replace(\"'\",\"\")  for m in movies]\n",
    "\n",
    "gift_items = [\"mug\", \"t-shirt\", \"poster\", \"keychain\",\"funko\",\"gift\",\"bottle\",\"toys\",\"figure\",\"lego\",\"stationery\",\"costume\",\"accessories\"]\n",
    "\n",
    "print(clean_movies)"
   ]
  },
  {
   "cell_type": "code",
   "execution_count": null,
   "id": "8ce471c6",
   "metadata": {},
   "outputs": [],
   "source": []
  }
 ],
 "metadata": {
  "kernelspec": {
   "display_name": "base",
   "language": "python",
   "name": "python3"
  },
  "language_info": {
   "codemirror_mode": {
    "name": "ipython",
    "version": 3
   },
   "file_extension": ".py",
   "mimetype": "text/x-python",
   "name": "python",
   "nbconvert_exporter": "python",
   "pygments_lexer": "ipython3",
   "version": "3.12.7"
  }
 },
 "nbformat": 4,
 "nbformat_minor": 5
}
